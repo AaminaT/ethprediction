{
 "cells": [
  {
   "cell_type": "code",
   "execution_count": 1,
   "id": "923d56e0-225a-4310-a041-a1ba36f34133",
   "metadata": {},
   "outputs": [],
   "source": [
    "# loading packages\n",
    "import pandas as pd\n",
    "import matplotlib.pyplot as plt"
   ]
  },
  {
   "cell_type": "code",
   "execution_count": 2,
   "id": "5f1c7498-be4f-466a-a680-bd9639147769",
   "metadata": {},
   "outputs": [],
   "source": [
    "# codes for loading documents.\n",
    "eth_usd_df = pd.read_csv('ETH-USD.csv')"
   ]
  },
  {
   "cell_type": "code",
   "execution_count": 3,
   "id": "6b30836e-cc67-46a9-b510-6d8815583193",
   "metadata": {},
   "outputs": [
    {
     "name": "stdout",
     "output_type": "stream",
     "text": [
      "         Date        Open        High         Low       Close   Adj Close  \\\n",
      "0  2017-11-09  308.644989  329.451996  307.056000  320.884003  320.884003   \n",
      "1  2017-11-10  320.670990  324.717987  294.541992  299.252991  299.252991   \n",
      "2  2017-11-11  298.585999  319.453003  298.191986  314.681000  314.681000   \n",
      "3  2017-11-12  314.690002  319.153015  298.513000  307.907990  307.907990   \n",
      "4  2017-11-13  307.024994  328.415009  307.024994  316.716003  316.716003   \n",
      "\n",
      "         Volume  \n",
      "0  8.932500e+08  \n",
      "1  8.859860e+08  \n",
      "2  8.423010e+08  \n",
      "3  1.613480e+09  \n",
      "4  1.041890e+09  \n"
     ]
    }
   ],
   "source": [
    "print(eth_usd_df.head())"
   ]
  },
  {
   "cell_type": "code",
   "execution_count": null,
   "id": "63e985bd-a885-4e8f-a035-1af8b0156c15",
   "metadata": {},
   "outputs": [],
   "source": [
    "eth_usd_df.plot.scatter(x='Date', y='Adj Close', c='red', marker='o', s=1)\n",
    "plt.title('Scatter Plot Example')\n",
    "plt.xlabel('Date')\n",
    "plt.ylabel('Adj Close')\n",
    "plt.show()"
   ]
  },
  {
   "cell_type": "code",
   "execution_count": null,
   "id": "cc5a0593-9c44-47db-9fa0-7563e318808e",
   "metadata": {},
   "outputs": [],
   "source": []
  }
 ],
 "metadata": {
  "kernelspec": {
   "display_name": "Python 3 (ipykernel)",
   "language": "python",
   "name": "python3"
  },
  "language_info": {
   "codemirror_mode": {
    "name": "ipython",
    "version": 3
   },
   "file_extension": ".py",
   "mimetype": "text/x-python",
   "name": "python",
   "nbconvert_exporter": "python",
   "pygments_lexer": "ipython3",
   "version": "3.10.16"
  }
 },
 "nbformat": 4,
 "nbformat_minor": 5
}

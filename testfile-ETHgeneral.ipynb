{
 "cells": [
  {
   "cell_type": "code",
   "execution_count": 1,
   "id": "b6eec2db-1bdf-4633-ba4e-c46b6a7036f8",
   "metadata": {},
   "outputs": [],
   "source": [
    "# loading packages\n",
    "import pandas as pd"
   ]
  },
  {
   "cell_type": "code",
   "execution_count": 2,
   "id": "51a4197d-2eec-486b-8f05-ca112cd180c7",
   "metadata": {},
   "outputs": [],
   "source": [
    "# codes for loading documents.\n",
    "eth_gen_df = pd.read_json('latest1K.json')"
   ]
  },
  {
   "cell_type": "code",
   "execution_count": null,
   "id": "a8f5a6f9-2e90-4252-bccc-945a7a794e7d",
   "metadata": {},
   "outputs": [],
   "source": [
    "# have a look at what we have\n",
    "print(eth_usd_df.head())"
   ]
  }
 ],
 "metadata": {
  "kernelspec": {
   "display_name": "Python 3 (ipykernel)",
   "language": "python",
   "name": "python3"
  },
  "language_info": {
   "codemirror_mode": {
    "name": "ipython",
    "version": 3
   },
   "file_extension": ".py",
   "mimetype": "text/x-python",
   "name": "python",
   "nbconvert_exporter": "python",
   "pygments_lexer": "ipython3",
   "version": "3.10.16"
  }
 },
 "nbformat": 4,
 "nbformat_minor": 5
}
